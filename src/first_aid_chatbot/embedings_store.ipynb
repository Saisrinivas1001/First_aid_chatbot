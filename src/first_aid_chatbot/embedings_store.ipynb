{
 "cells": [
  {
   "cell_type": "code",
   "execution_count": 1,
   "id": "f823b3b0",
   "metadata": {},
   "outputs": [],
   "source": [
    "import redis\n",
    "r = redis.Redis(host='localhost', port=6379, decode_responses=True)"
   ]
  },
  {
   "cell_type": "code",
   "execution_count": 2,
   "id": "e25d273d",
   "metadata": {},
   "outputs": [
    {
     "name": "stderr",
     "output_type": "stream",
     "text": [
      "c:\\Users\\Chinnnolla Koteshwar\\Downloads\\First-Aid-Chatbot\\.venv\\Lib\\site-packages\\tqdm\\auto.py:21: TqdmWarning: IProgress not found. Please update jupyter and ipywidgets. See https://ipywidgets.readthedocs.io/en/stable/user_install.html\n",
      "  from .autonotebook import tqdm as notebook_tqdm\n"
     ]
    }
   ],
   "source": [
    "from sentence_transformers import SentenceTransformer\n",
    "from redis.commands.search.query import Query\n",
    "from redis.commands.search.field import TextField, TagField, VectorField\n",
    "from redis.commands.search.index_definition import IndexDefinition, IndexType\n",
    "from redis.commands.json.path import Path\n",
    "\n",
    "import numpy as np"
   ]
  },
  {
   "cell_type": "code",
   "execution_count": 3,
   "id": "e225710e",
   "metadata": {},
   "outputs": [],
   "source": [
    "model = SentenceTransformer(\"sentence-transformers/all-MiniLM-L6-v2\")"
   ]
  },
  {
   "cell_type": "code",
   "execution_count": 4,
   "id": "6dc17b86",
   "metadata": {},
   "outputs": [],
   "source": [
    "try:\n",
    "    r.ft(\"vector_idx\").dropindex(True)\n",
    "except redis.exceptions.ResponseError:\n",
    "    pass"
   ]
  },
  {
   "cell_type": "code",
   "execution_count": 7,
   "id": "3fa45516",
   "metadata": {},
   "outputs": [
    {
     "data": {
      "text/plain": [
       "'OK'"
      ]
     },
     "execution_count": 7,
     "metadata": {},
     "output_type": "execute_result"
    }
   ],
   "source": [
    "schema = (\n",
    "    TextField(\"content\"),\n",
    "    VectorField(\"embedding\", \"HNSW\", {\n",
    "        \"TYPE\": \"FLOAT32\",\n",
    "        \"DIM\": 384,\n",
    "        \"DISTANCE_METRIC\":\"L2\"\n",
    "    })\n",
    ")\n",
    "\n",
    "r.ft(\"vector_idx\").create_index(\n",
    "    schema,\n",
    "    definition=IndexDefinition(\n",
    "        prefix=[\"doc:\"], index_type=IndexType.HASH\n",
    "    )\n",
    ")\n"
   ]
  },
  {
   "cell_type": "code",
   "execution_count": 6,
   "id": "01daa8e8",
   "metadata": {},
   "outputs": [],
   "source": [
    "import pandas as pd\n",
    "data = pd.read_csv(\"Assignment_Data_Base.csv\")"
   ]
  },
  {
   "cell_type": "code",
   "execution_count": 8,
   "id": "cdc6c1fb",
   "metadata": {},
   "outputs": [
    {
     "data": {
      "text/html": [
       "<div>\n",
       "<style scoped>\n",
       "    .dataframe tbody tr th:only-of-type {\n",
       "        vertical-align: middle;\n",
       "    }\n",
       "\n",
       "    .dataframe tbody tr th {\n",
       "        vertical-align: top;\n",
       "    }\n",
       "\n",
       "    .dataframe thead th {\n",
       "        text-align: right;\n",
       "    }\n",
       "</style>\n",
       "<table border=\"1\" class=\"dataframe\">\n",
       "  <thead>\n",
       "    <tr style=\"text-align: right;\">\n",
       "      <th></th>\n",
       "      <th>#</th>\n",
       "      <th>Sentence</th>\n",
       "    </tr>\n",
       "  </thead>\n",
       "  <tbody>\n",
       "    <tr>\n",
       "      <th>0</th>\n",
       "      <td>1</td>\n",
       "      <td>Type 1 diabetes is an autoimmune condition cau...</td>\n",
       "    </tr>\n",
       "    <tr>\n",
       "      <th>1</th>\n",
       "      <td>2</td>\n",
       "      <td>Type 2 diabetes involves insulin resistance an...</td>\n",
       "    </tr>\n",
       "    <tr>\n",
       "      <th>2</th>\n",
       "      <td>3</td>\n",
       "      <td>Gestational diabetes develops in pregnancy and...</td>\n",
       "    </tr>\n",
       "    <tr>\n",
       "      <th>3</th>\n",
       "      <td>4</td>\n",
       "      <td>A fasting plasma glucose ≥ 126 mg/dL on two oc...</td>\n",
       "    </tr>\n",
       "    <tr>\n",
       "      <th>4</th>\n",
       "      <td>5</td>\n",
       "      <td>Hypoglycaemia is defined as blood glucose &lt; 70...</td>\n",
       "    </tr>\n",
       "  </tbody>\n",
       "</table>\n",
       "</div>"
      ],
      "text/plain": [
       "   #                                           Sentence\n",
       "0  1  Type 1 diabetes is an autoimmune condition cau...\n",
       "1  2  Type 2 diabetes involves insulin resistance an...\n",
       "2  3  Gestational diabetes develops in pregnancy and...\n",
       "3  4  A fasting plasma glucose ≥ 126 mg/dL on two oc...\n",
       "4  5  Hypoglycaemia is defined as blood glucose < 70..."
      ]
     },
     "execution_count": 8,
     "metadata": {},
     "output_type": "execute_result"
    }
   ],
   "source": [
    "data.head()"
   ]
  },
  {
   "cell_type": "code",
   "execution_count": 10,
   "id": "a501d2e8",
   "metadata": {},
   "outputs": [
    {
     "name": "stdout",
     "output_type": "stream",
     "text": [
      "60\r"
     ]
    }
   ],
   "source": [
    "k=0\n",
    "for i in data['Sentence']:\n",
    "    r.hset(f\"doc:{k}\", mapping={\n",
    "        \"content\": i,\n",
    "        \"embedding\": model.encode(i).astype(np.float32).tobytes(),\n",
    "    })\n",
    "    k += 1\n",
    "    print(k, end=\"\\r\")"
   ]
  },
  {
   "cell_type": "code",
   "execution_count": 15,
   "id": "7940ddd3",
   "metadata": {},
   "outputs": [
    {
     "name": "stdout",
     "output_type": "stream",
     "text": [
      "Result{3 total, docs: [Document {'id': 'doc:41', 'payload': None}, Document {'id': 'doc:42', 'payload': None}, Document {'id': 'doc:43', 'payload': None}]}\n"
     ]
    }
   ],
   "source": [
    "q = Query(\n",
    "    \"*=>[KNN 3 @embedding $vec AS vector_distance]\"\n",
    ").return_field(\"score\").dialect(2)\n",
    "\n",
    "query_text = input()\n",
    "\n",
    "res = r.ft(\"vector_idx\").search(\n",
    "    q, query_params={\n",
    "        \"vec\": model.encode(query_text).astype(np.float32).tobytes()\n",
    "    }\n",
    ")\n",
    "\n",
    "print(res)\n"
   ]
  }
 ],
 "metadata": {
  "kernelspec": {
   "display_name": "First-Aid-Chatbot",
   "language": "python",
   "name": "python3"
  },
  "language_info": {
   "codemirror_mode": {
    "name": "ipython",
    "version": 3
   },
   "file_extension": ".py",
   "mimetype": "text/x-python",
   "name": "python",
   "nbconvert_exporter": "python",
   "pygments_lexer": "ipython3",
   "version": "3.12.9"
  }
 },
 "nbformat": 4,
 "nbformat_minor": 5
}
